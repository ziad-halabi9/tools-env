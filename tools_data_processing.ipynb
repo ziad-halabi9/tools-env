{
 "cells": [
  {
   "cell_type": "code",
   "execution_count": 150,
   "metadata": {
    "collapsed": false
   },
   "outputs": [
    {
     "name": "stdout",
     "output_type": "stream",
     "text": [
      "0.522222222222\n",
      "0.544444444444\n",
      "0.580555555556\n",
      "0.561111111111\n",
      "0.494444444444\n",
      "0.355555555556\n"
     ]
    }
   ],
   "source": [
    "from numpy import genfromtxt\n",
    "from numpy import mean\n",
    "from collections import Counter\n",
    "from collections import defaultdict\n",
    "from random import sample\n",
    "from random import randint\n",
    "from random import seed\n",
    "from sklearn.neighbors import KNeighborsClassifier\n",
    "from sklearn.metrics.pairwise import cosine_similarity\n",
    "from sklearn.svm import LinearSVC\n",
    "from sklearn.svm import SVC\n",
    "from sklearn.cross_validation import cross_val_score\n",
    "\n",
    "# set seed for random so results can be replicated\n",
    "seed(12345678)\n",
    "\n",
    "def readData(fileName):\n",
    "    # read in data\n",
    "    testData = genfromtxt(fileName, delimiter=',')\n",
    "\n",
    "    # extract features from data\n",
    "    x = [item[2:] for item in testData[1:]]\n",
    "\n",
    "    # extract programmer id from data\n",
    "    y = [int(item[0]) for item in testData[1:]]\n",
    "    return (x, y)\n",
    "\n",
    "def numberOfProgrammersWithXSessions(y):\n",
    "    # prints how many programmers have at least some value sessions\n",
    "    countOfProgId = Counter(y)\n",
    "    for i in range(1,31):\n",
    "        occurance = 0\n",
    "        for progId in countOfProgId.keys():\n",
    "            if(countOfProgId[progId] > i):\n",
    "                occurance += 1\n",
    "        print(str(i) + \" \" + str(occurance))\n",
    "\n",
    "def removeProgrammersWithLessThanThreshholdSessions(x, y, threshhold):        \n",
    "    # remove programmers from data with less than x sessions\n",
    "    progIdToKeep = [key for key in countOfProgId.keys() if countOfProgId[key] > threshhold]\n",
    "    newX = []\n",
    "    newY = []\n",
    "    for i in range(len(y)):\n",
    "        if y[i] in progIdToKeep:\n",
    "            newX.append(x[i])\n",
    "            newY.append(y[i])\n",
    "    x = newX\n",
    "    y = newY\n",
    "    return (x, y)\n",
    "\n",
    "def randomlySelectXSessionsForEachProgrammer(x, y):    \n",
    "    # randomly select threshold sessions for each programmers\n",
    "    # make a dict with key progId and value a list of all session of that programmer \n",
    "    prodId = set(y)\n",
    "    dataGroupedByProg = defaultdict(list)\n",
    "    for i in range(len(x)):\n",
    "        dataGroupedByProg[y[i]].append(x[i])    \n",
    "    #sample threshold from that list of list\n",
    "    newX = []\n",
    "    testX = []\n",
    "    testY = []\n",
    "    newY = []\n",
    "\n",
    "    for key in dataGroupedByProg.keys():\n",
    "        sampledSessions = sample(dataGroupedByProg[key], threshhold)\n",
    "        testIndex = randint(0, threshhold-1) #select x for testing\n",
    "        testX.append(sampledSessions[testIndex])\n",
    "        testY.append(key)\n",
    "        for i in range(len(sampledSessions)):\n",
    "            if i != testIndex:\n",
    "                newX.append(sampledSessions[i])\n",
    "                newY.append(key)\n",
    "    y = newY\n",
    "    x = newX\n",
    "    return (x, y, testX, testY)\n",
    "\n",
    "dataFiles = ['basic_event_frequency_count.csv', \n",
    "             'basic_event_frequency_count_with_session_min_size_500.csv',\n",
    "             'basic_event_tfidf.csv',\n",
    "             'basic_event_tfidf_with_session_min_size_500.csv',\n",
    "             'complex_event_frequency_count.csv',\n",
    "             'complex_event_frequency_count_with_session_min_size_500.csv',\n",
    "             'complex_event_tfidf.csv',\n",
    "             'complex_event_tfidf_with_session_min_size_500.csv']\n",
    "\n",
    "data = readData('full_event_frequency_count_min_size_500.csv')\n",
    "data = removeProgrammersWithLessThanThreshholdSessions(data[0], data[1], 10)\n",
    "data = randomlySelectXSessionsForEachProgrammer(data[0], data[1])\n",
    "x = data[0]\n",
    "y = data[1]\n",
    "testX = data[2]\n",
    "testY = data[3]\n",
    "\n",
    "#results = []\n",
    "#for i in range(1, 9):\n",
    "   # results2 = []\n",
    "    #for j in range (10):\n",
    "     #   nbrs = KNeighborsClassifier(n_neighbors = i)\n",
    "      #  nbrs.fit(x, y)\n",
    "       # results2.append(mean(cross_val_score(nbrs, x, y, cv = 9)))\n",
    "    #results.append(mean(results2))\n",
    "#print(results)    \n",
    "\n",
    "#nbrs = KNeighborsClassifier(n_neighbors = 2).fit(x,y)\n",
    "#print(file + \"\\n\" + str(nbrs.score(testX, testY)))\n",
    "\n",
    "for i in [0.001, 0.0005, 0.0001, 0.00005,  0.00001, 0.000001]:\n",
    "    clf = LinearSVC(C=i).fit(x, y)\n",
    "    print(mean(cross_val_score(clf, x, y, cv=9)))\n",
    "\n",
    "#for session in x:\n",
    "    #print(test)\n",
    "    #print(session)\n",
    "    #print(cosine_similarity([test], [session]))\n"
   ]
  },
  {
   "cell_type": "code",
   "execution_count": null,
   "metadata": {
    "collapsed": true
   },
   "outputs": [],
   "source": []
  },
  {
   "cell_type": "code",
   "execution_count": null,
   "metadata": {
    "collapsed": true
   },
   "outputs": [],
   "source": []
  },
  {
   "cell_type": "code",
   "execution_count": null,
   "metadata": {
    "collapsed": true
   },
   "outputs": [],
   "source": []
  }
 ],
 "metadata": {
  "kernelspec": {
   "display_name": "Python 3",
   "language": "python",
   "name": "python3"
  },
  "language_info": {
   "codemirror_mode": {
    "name": "ipython",
    "version": 3
   },
   "file_extension": ".py",
   "mimetype": "text/x-python",
   "name": "python",
   "nbconvert_exporter": "python",
   "pygments_lexer": "ipython3",
   "version": "3.5.1"
  }
 },
 "nbformat": 4,
 "nbformat_minor": 0
}
